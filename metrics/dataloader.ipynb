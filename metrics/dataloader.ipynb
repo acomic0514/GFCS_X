{
 "cells": [
  {
   "cell_type": "code",
   "execution_count": 4,
   "id": "15d9feb9-a220-41ce-81cb-7deeec2c8589",
   "metadata": {},
   "outputs": [],
   "source": [
    "import os\n",
    "import torch\n",
    "from torch.utils.data import Dataset\n",
    "from torchvision import transforms\n",
    "from PIL import Image\n",
    "from pathlib import Path"
   ]
  },
  {
   "cell_type": "code",
   "execution_count": null,
   "id": "e3d00e9e-b0b3-43b3-8bed-44b22cd26323",
   "metadata": {},
   "outputs": [],
   "source": [
    "# ✅ 自動找到 `GFCS_X` 目錄\n",
    "GFCS_X_ROOT = Path(__file__).resolve().parent.parent  # `metrics` 的上級目錄\n",
    "DATASET_ROOT = GFCS_X_ROOT / \"data\"  # `GFCS_X/data/`\n"
   ]
  },
  {
   "cell_type": "code",
   "execution_count": 5,
   "id": "44ced882-e154-4280-95fd-46284e5a455a",
   "metadata": {},
   "outputs": [],
   "source": [
    "class RainDataset(Dataset):\n",
    "    def __init__(self, mode='train', dataset_name='Rain13K', transform=None, test=False):\n",
    "        \"\"\"\n",
    "        mode: 'train' 或 'test'\n",
    "        dataset_name: 數據集名稱，如 'Rain13K' 或 'Rain100L'\n",
    "        transform: 圖片增強 / 標準化\n",
    "        test: 是否為測試模式（允許 target 為 None）\n",
    "        \"\"\"\n",
    "        assert mode in ['train', 'test'], \"mode 參數必須是 'train' 或 'test'\"\n",
    "\n",
    "        self.input_dir = DATASET_ROOT / mode / dataset_name / 'input'\n",
    "        self.target_dir = DATASET_ROOT / mode / dataset_name / 'target' if not test else None\n",
    "        self.transform = transform\n",
    "        self.test = test\n",
    "\n",
    "        # ✅ 確保目錄存在\n",
    "        if not self.input_dir.exists():\n",
    "            raise FileNotFoundError(f\"❌ 找不到目錄 {self.input_dir}，請檢查數據集！\")\n",
    "\n",
    "        if not test and not self.target_dir.exists():\n",
    "            raise FileNotFoundError(f\"❌ 找不到目錄 {self.target_dir}，請檢查數據集！\")\n",
    "\n",
    "        # ✅ 讀取圖像\n",
    "        self.input_files = sorted([f for f in os.listdir(self.input_dir) if f.endswith(('.png', '.jpg'))])\n",
    "\n",
    "        if not test:\n",
    "            self.target_files = sorted([f for f in os.listdir(self.target_dir) if f.endswith(('.png', '.jpg'))])\n",
    "            assert len(self.input_files) == len(self.target_files), \"❌ input 和 target 數量不匹配！\"\n",
    "\n",
    "    def __len__(self):\n",
    "        return len(self.input_files)\n",
    "\n",
    "    def __getitem__(self, idx):\n",
    "        input_path = self.input_dir / self.input_files[idx]\n",
    "        input_img = Image.open(input_path).convert(\"RGB\")\n",
    "\n",
    "        if not self.test:\n",
    "            target_path = self.target_dir / self.target_files[idx]\n",
    "            target_img = Image.open(target_path).convert(\"RGB\")\n",
    "        else:\n",
    "            target_img = None\n",
    "\n",
    "        # 轉換圖像\n",
    "        if self.transform:\n",
    "            input_img = self.transform(input_img)\n",
    "            target_img = self.transform(target_img) if target_img else None\n",
    "\n",
    "        return (input_img, target_img) if target_img is not None else input_img\n",
    "\n"
   ]
  },
  {
   "cell_type": "code",
   "execution_count": 8,
   "id": "eef14b05-d753-431c-8e82-948c71a04f51",
   "metadata": {},
   "outputs": [
    {
     "name": "stderr",
     "output_type": "stream",
     "text": [
      "[NbConvertApp] Converting notebook dataloader.ipynb to script\n",
      "[NbConvertApp] Writing 2254 bytes to dataloader.py\n"
     ]
    }
   ],
   "source": [
    "!jupyter nbconvert --to script dataloader.ipynb"
   ]
  },
  {
   "cell_type": "code",
   "execution_count": null,
   "id": "f11284c6-1853-47bc-95bd-742395861121",
   "metadata": {},
   "outputs": [],
   "source": []
  }
 ],
 "metadata": {
  "kernelspec": {
   "display_name": "Python 3.10 (py310_env)",
   "language": "python",
   "name": "py310_env"
  },
  "language_info": {
   "codemirror_mode": {
    "name": "ipython",
    "version": 3
   },
   "file_extension": ".py",
   "mimetype": "text/x-python",
   "name": "python",
   "nbconvert_exporter": "python",
   "pygments_lexer": "ipython3",
   "version": "3.10.16"
  }
 },
 "nbformat": 4,
 "nbformat_minor": 5
}
