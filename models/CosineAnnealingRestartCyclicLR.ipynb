{
 "cells": [
  {
   "cell_type": "code",
   "execution_count": 17,
   "id": "92c8131e-e9c0-4f56-a1a1-fee1e46b7dd7",
   "metadata": {},
   "outputs": [],
   "source": [
    "import math\n",
    "import torch.optim.lr_scheduler as lr_scheduler\n",
    "\n",
    "class CosineAnnealingRestartCyclicLR(lr_scheduler._LRScheduler):\n",
    "    \"\"\" 自訂 Cosine Annealing Restart Cyclic LR \"\"\"\n",
    "\n",
    "    def __init__(self, optimizer, periods, restart_weights=[1], eta_mins=[1e-6], last_epoch=-1):\n",
    "        assert len(periods) == len(restart_weights) == len(eta_mins), \\\n",
    "            \"periods, restart_weights, and eta_mins must have the same length\"\n",
    "        \n",
    "        self.periods = periods\n",
    "        self.restart_weights = restart_weights\n",
    "        self.eta_mins = eta_mins\n",
    "        self.cumulative_period = [sum(self.periods[:i + 1]) for i in range(len(self.periods))]\n",
    "\n",
    "        super().__init__(optimizer, last_epoch)\n",
    "\n",
    "    def get_lr(self):\n",
    "        \"\"\" 計算當前學習率 \"\"\"\n",
    "        idx = next(i for i, v in enumerate(self.cumulative_period) if self.last_epoch <= v)\n",
    "\n",
    "        current_weight = self.restart_weights[idx]\n",
    "        nearest_restart = 0 if idx == 0 else self.cumulative_period[idx - 1]\n",
    "        current_period = self.periods[idx]\n",
    "        eta_min = self.eta_mins[idx]\n",
    "\n",
    "        return [\n",
    "            eta_min + current_weight * 0.5 * (base_lr - eta_min) *\n",
    "            (1 + math.cos(math.pi * ((self.last_epoch - nearest_restart) / current_period)))\n",
    "            for base_lr in self.base_lrs\n",
    "        ]\n"
   ]
  },
  {
   "cell_type": "code",
   "execution_count": 1,
   "id": "cafae2e3-349c-4f36-a817-72dae2270d62",
   "metadata": {},
   "outputs": [
    {
     "name": "stderr",
     "output_type": "stream",
     "text": [
      "[NbConvertApp] Converting notebook CosineAnnealingRestartCyclicLR.ipynb to script\n",
      "[NbConvertApp] Writing 1332 bytes to CosineAnnealingRestartCyclicLR.py\n"
     ]
    }
   ],
   "source": [
    "!jupyter nbconvert --to script CosineAnnealingRestartCyclicLR.ipynb"
   ]
  },
  {
   "cell_type": "code",
   "execution_count": null,
   "id": "993473a9-08fd-4889-b7bb-262bd80dc4a4",
   "metadata": {},
   "outputs": [],
   "source": []
  }
 ],
 "metadata": {
  "kernelspec": {
   "display_name": "Python 3.10 (py310_env)",
   "language": "python",
   "name": "py310_env"
  },
  "language_info": {
   "codemirror_mode": {
    "name": "ipython",
    "version": 3
   },
   "file_extension": ".py",
   "mimetype": "text/x-python",
   "name": "python",
   "nbconvert_exporter": "python",
   "pygments_lexer": "ipython3",
   "version": "3.10.16"
  }
 },
 "nbformat": 4,
 "nbformat_minor": 5
}
