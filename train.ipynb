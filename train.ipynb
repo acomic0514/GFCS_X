{
 "cells": [
  {
   "cell_type": "code",
   "execution_count": 1,
   "id": "360e1248",
   "metadata": {},
   "outputs": [],
   "source": [
    "import os\n",
    "import yaml\n",
    "import torch\n",
    "import torch.optim as optim\n",
    "from torch.utils.data import DataLoader\n",
    "from torch.amp import GradScaler, autocast\n",
    "from tqdm import tqdm\n",
    "from metrics.dataloader import RainDataset, get_transform\n",
    "\n",
    "# Import modules\n",
    "from models.archs.DPENet_v1 import DPENet\n",
    "from models.archs.losses import SSIMLoss_v2, EdgeLoss_v2, L1Loss\n",
    "from models.CosineAnnealingRestartCyclicLR import CosineAnnealingRestartCyclicLR"
   ]
  },
  {
   "cell_type": "code",
   "execution_count": 2,
   "id": "1e7593ab",
   "metadata": {},
   "outputs": [],
   "source": [
    "def load_config(file_path):\n",
    "    with open(file_path, 'r') as file:\n",
    "        config = yaml.safe_load(file)\n",
    "    \n",
    "    # Ensure specific types\n",
    "    config[\"epochs\"] = int(config[\"epochs\"])\n",
    "    config[\"batch_size\"] = int(config[\"batch_size\"])\n",
    "    config[\"lr\"] = float(config[\"lr\"])\n",
    "    config[\"eta_min\"] = float(config[\"eta_min\"])\n",
    "    config[\"periods\"] = [int(period) for period in config[\"periods\"]]\n",
    "    config[\"restart_weights\"] = [float(weight) for weight in config[\"restart_weights\"]]\n",
    "    config[\"num_workers\"] = int(config[\"num_workers\"])\n",
    "    config[\"log_interval\"] = int(config[\"log_interval\"])\n",
    "    config[\"use_amp\"] = bool(config[\"use_amp\"])\n",
    "    config[\"grad_clip\"] = float(config[\"grad_clip\"])  # 新增梯度裁剪閾值，預設為 1.0\n",
    "    \n",
    "    return config"
   ]
  },
  {
   "cell_type": "code",
   "execution_count": 5,
   "id": "e86acd49",
   "metadata": {},
   "outputs": [
    {
     "name": "stdout",
     "output_type": "stream",
     "text": [
      "開始訓練 DPENet_CFIM，使用設備：cuda\n"
     ]
    },
    {
     "name": "stderr",
     "output_type": "stream",
     "text": [
      "Epoch [1/10]:   0%|          | 0/857 [00:00<?, ?it/s]"
     ]
    },
    {
     "name": "stderr",
     "output_type": "stream",
     "text": [
      "Epoch [1/10]: 100%|██████████| 857/857 [05:28<00:00,  2.61it/s, loss=0.0283]\n"
     ]
    },
    {
     "name": "stdout",
     "output_type": "stream",
     "text": [
      "🔹 Epoch [1/10], Loss: 0.028200, LR: 0.00100000\n"
     ]
    },
    {
     "name": "stderr",
     "output_type": "stream",
     "text": [
      "Epoch [2/10]: 100%|██████████| 857/857 [05:28<00:00,  2.61it/s, loss=0.0264]\n"
     ]
    },
    {
     "name": "stdout",
     "output_type": "stream",
     "text": [
      "🔹 Epoch [2/10], Loss: 0.028542, LR: 0.00100000\n"
     ]
    },
    {
     "name": "stderr",
     "output_type": "stream",
     "text": [
      "Epoch [3/10]: 100%|██████████| 857/857 [05:28<00:00,  2.61it/s, loss=0.0291]\n"
     ]
    },
    {
     "name": "stdout",
     "output_type": "stream",
     "text": [
      "🔹 Epoch [3/10], Loss: 0.028502, LR: 0.00100000\n"
     ]
    },
    {
     "name": "stderr",
     "output_type": "stream",
     "text": [
      "Epoch [4/10]: 100%|██████████| 857/857 [05:28<00:00,  2.61it/s, loss=0.0317]\n"
     ]
    },
    {
     "name": "stdout",
     "output_type": "stream",
     "text": [
      "🔹 Epoch [4/10], Loss: 0.028511, LR: 0.00100000\n"
     ]
    },
    {
     "name": "stderr",
     "output_type": "stream",
     "text": [
      "Epoch [5/10]: 100%|██████████| 857/857 [05:28<00:00,  2.61it/s, loss=0.0296]\n"
     ]
    },
    {
     "name": "stdout",
     "output_type": "stream",
     "text": [
      "🔹 Epoch [5/10], Loss: 0.028319, LR: 0.00100000\n"
     ]
    },
    {
     "name": "stderr",
     "output_type": "stream",
     "text": [
      "Epoch [6/10]: 100%|██████████| 857/857 [05:28<00:00,  2.61it/s, loss=0.0266]\n"
     ]
    },
    {
     "name": "stdout",
     "output_type": "stream",
     "text": [
      "🔹 Epoch [6/10], Loss: 0.028358, LR: 0.00100000\n"
     ]
    },
    {
     "name": "stderr",
     "output_type": "stream",
     "text": [
      "Epoch [7/10]: 100%|██████████| 857/857 [05:28<00:00,  2.61it/s, loss=0.0268]\n"
     ]
    },
    {
     "name": "stdout",
     "output_type": "stream",
     "text": [
      "🔹 Epoch [7/10], Loss: 0.028388, LR: 0.00100000\n"
     ]
    },
    {
     "name": "stderr",
     "output_type": "stream",
     "text": [
      "Epoch [8/10]: 100%|██████████| 857/857 [05:28<00:00,  2.61it/s, loss=0.0202]\n"
     ]
    },
    {
     "name": "stdout",
     "output_type": "stream",
     "text": [
      "🔹 Epoch [8/10], Loss: 0.029198, LR: 0.00100000\n"
     ]
    },
    {
     "name": "stderr",
     "output_type": "stream",
     "text": [
      "Epoch [9/10]: 100%|██████████| 857/857 [05:28<00:00,  2.61it/s, loss=0.0279]\n"
     ]
    },
    {
     "name": "stdout",
     "output_type": "stream",
     "text": [
      "🔹 Epoch [9/10], Loss: 0.028328, LR: 0.00100000\n"
     ]
    },
    {
     "name": "stderr",
     "output_type": "stream",
     "text": [
      "Epoch [10/10]: 100%|██████████| 857/857 [05:28<00:00,  2.61it/s, loss=0.0296]"
     ]
    },
    {
     "name": "stdout",
     "output_type": "stream",
     "text": [
      "🔹 Epoch [10/10], Loss: 0.028519, LR: 0.00100000\n",
      "模型已保存：checkpoints/DPENet_CFIM_epoch10.pth\n"
     ]
    },
    {
     "name": "stderr",
     "output_type": "stream",
     "text": [
      "\n"
     ]
    }
   ],
   "source": [
    "if __name__ == \"__main__\":\n",
    "    # Load configuration from YAML file\n",
    "    config = load_config('config.yml')\n",
    "        \n",
    "    # 創建存放模型的資料夾\n",
    "    os.makedirs(config[\"checkpoint_dir\"], exist_ok=True)\n",
    "\n",
    "    # 創建模型\n",
    "    model = DPENet()\n",
    "    model.to(config[\"device\"])\n",
    "\n",
    "    # 創建損失函數\n",
    "    ssim_loss = SSIMLoss_v2().to(config[\"device\"])\n",
    "    edge_loss = EdgeLoss_v2().to(config[\"device\"])\n",
    "    l1_loss = L1Loss(loss_weight=1.0, reduction='mean').to(config[\"device\"])\n",
    "\n",
    "    # 創建優化器 & 學習率調整器\n",
    "    optimizer = optim.AdamW(model.parameters(), lr=config[\"lr\"], \n",
    "                            betas=(0.9, 0.999), weight_decay=1e-4)\n",
    "    scheduler = CosineAnnealingRestartCyclicLR(optimizer, periods=config[\"periods\"], \n",
    "                                            restart_weights=config[\"restart_weights\"], \n",
    "                                            eta_mins=[config[\"lr\"], config[\"eta_min\"]])\n",
    "\n",
    "    # 設定 DataLoader\n",
    "    train_dataset = RainDataset(mode='train', dataset_name='Rain13K', \n",
    "                                transform=get_transform(train=True))\n",
    "    train_loader = torch.utils.data.DataLoader(train_dataset, batch_size=config[\"batch_size\"], \n",
    "                                            shuffle=True, num_workers=4)\n",
    "\n",
    "    # 設定 AMP（混合精度）\n",
    "    scaler = GradScaler('cuda', enabled=config[\"use_amp\"])\n",
    "    # 訓練迴圈\n",
    "    print(f\"開始訓練 DPENet_CFIM，使用設備：{config['device']}\")\n",
    "    \n",
    "    for epoch in range(config[\"epochs\"]):\n",
    "        model.train()\n",
    "        running_loss = 0.0\n",
    "        pbar = tqdm(train_loader, desc=f\"Epoch [{epoch+1}/{config['epochs']}]\")\n",
    "\n",
    "        for batch_idx, (input_img, target_img) in enumerate(pbar):\n",
    "            input_img, target_img = input_img.to(config[\"device\"]), target_img.to(config[\"device\"])\n",
    "\n",
    "            optimizer.zero_grad()\n",
    "\n",
    "            # 前向傳播（AMP 混合精度）\n",
    "            with autocast(device_type='cuda', enabled=config[\"use_amp\"]):\n",
    "                output = model(input_img)\n",
    "                ssim_val = ssim_loss(output, target_img)\n",
    "                edge_val = edge_loss(output, target_img)\n",
    "                if torch.isnan(ssim_val) or torch.isinf(ssim_val):\n",
    "                    print(\"⚠ SSIM Loss 出錯\", ssim_val)\n",
    "\n",
    "                if torch.isnan(edge_val) or torch.isinf(edge_val):\n",
    "                    print(\"⚠ Edge Loss 出錯\", edge_val)\n",
    "\n",
    "                loss = ssim_val + 0.05 * edge_val\n",
    "\n",
    "            # 反向傳播\n",
    "            scaler.scale(loss).backward()\n",
    "            \n",
    "            # 梯度裁剪，防止梯度爆炸或震盪\n",
    "            torch.nn.utils.clip_grad_norm_(model.parameters(), config[\"grad_clip\"])\n",
    "            \n",
    "            scaler.step(optimizer)\n",
    "            scaler.update()\n",
    "            scheduler.step()  # 更新學習率\n",
    "\n",
    "            # 記錄 Loss\n",
    "            running_loss += loss.item()\n",
    "            if batch_idx % config[\"log_interval\"] == 0:\n",
    "                pbar.set_postfix(loss=loss.item())\n",
    "\n",
    "        avg_loss = running_loss / len(train_loader)\n",
    "        print(f\"🔹 Epoch [{epoch+1}/{config['epochs']}], Loss: {avg_loss:.6f}, LR: {scheduler.get_lr()[0]:.8f}\")\n",
    "\n",
    "        # 保存模型（每 10 個 Epoch 保存一次）\n",
    "        if (epoch + 1) % 10 == 0:\n",
    "            save_path = os.path.join(config[\"checkpoint_dir\"], f\"DPENet_CFIM_epoch{epoch+1}.pth\")\n",
    "            torch.save(model.state_dict(), save_path)\n",
    "            print(f\"模型已保存：{save_path}\")"
   ]
  },
  {
   "cell_type": "code",
   "execution_count": null,
   "id": "7331a6bc",
   "metadata": {},
   "outputs": [],
   "source": []
  }
 ],
 "metadata": {
  "kernelspec": {
   "display_name": "Python 3",
   "language": "python",
   "name": "python3"
  },
  "language_info": {
   "codemirror_mode": {
    "name": "ipython",
    "version": 3
   },
   "file_extension": ".py",
   "mimetype": "text/x-python",
   "name": "python",
   "nbconvert_exporter": "python",
   "pygments_lexer": "ipython3",
   "version": "3.10.12"
  }
 },
 "nbformat": 4,
 "nbformat_minor": 5
}
